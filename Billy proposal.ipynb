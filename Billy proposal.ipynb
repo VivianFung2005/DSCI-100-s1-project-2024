{
 "cells": [
  {
   "cell_type": "markdown",
   "id": "01f372ce-a4d8-4d04-942b-d140e4825253",
   "metadata": {},
   "source": []
  },
  {
   "cell_type": "markdown",
   "id": "d50ac84a-bf12-43cc-87cb-5c4e87ca1812",
   "metadata": {},
   "source": [
    "Title"
   ]
  },
  {
   "cell_type": "markdown",
   "id": "f0fa95db-798a-4f51-98c0-96c7c45f101c",
   "metadata": {},
   "source": [
    "Introduction:\n",
    "1. Provide some relevant background information on the topic so that someone unfamiliar with it will be prepared to understand the rest of your proposal\n",
    "2. Clearly state the question you will try to answer with your project\n",
    "3. Identify and describe the dataset that will be used to answer the question"
   ]
  }
 ],
 "metadata": {
  "kernelspec": {
   "display_name": "R",
   "language": "R",
   "name": "ir"
  },
  "language_info": {
   "codemirror_mode": "r",
   "file_extension": ".r",
   "mimetype": "text/x-r-source",
   "name": "R",
   "pygments_lexer": "r",
   "version": "4.3.1"
  }
 },
 "nbformat": 4,
 "nbformat_minor": 5
}
