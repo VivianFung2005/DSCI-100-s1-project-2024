{
 "cells": [
  {
   "cell_type": "markdown",
   "id": "f657f94b-59d1-4014-96a0-bb394fecde88",
   "metadata": {},
   "source": [
    "Title: "
   ]
  },
  {
   "cell_type": "markdown",
   "id": "0e357968-d22c-44b0-b4c7-85a7e296f6b4",
   "metadata": {},
   "source": [
    "Introduction:\n",
    "1. Provide some relevant background information on the topic so that someone unfamiliar with it will be prepared to understand the rest of your proposal\n",
    "2. Clearly state the question you will try to answer with your project\n",
    "3. Identify and describe the dataset that will be used to answer the question"
   ]
  },
  {
   "cell_type": "markdown",
   "id": "475a52e1-39f7-4801-9620-0e2bcc9dbf0c",
   "metadata": {},
   "source": [
    "Preliminary exploratory data analysis:\n",
    "1. Demonstrate that the dataset can be read from the web into R \n",
    "2. Clean and wrangle your data into a tidy format\n",
    "3. Using only training data, summarize the data in at least one table (this is exploratory data analysis). An example of a useful table could be one that reports the number of observations in each class, the means of the predictor variables you plan to use in your analysis and how many rows have missing data. \n",
    "4. Using only training data, visualize the data with at least one plot relevant to the analysis you plan to do (this is exploratory data analysis). An example of a useful visualization could be one that compares the distributions of each of the predictor variables you plan to use in your analysis."
   ]
  },
  {
   "cell_type": "markdown",
   "id": "67f6b2fb-c75d-4336-870e-47db1b240cbc",
   "metadata": {},
   "source": [
    "Methods:\n",
    "\n",
    "Explain how you will conduct either your data analysis and which variables/columns you will use. Note - you do not need to use all variables/columns that exist in the raw data set. In fact, that's often not a good idea. For each variable think: is this a useful variable for prediction?\n",
    "Describe at least one way that you will visualize the results\n"
   ]
  },
  {
   "cell_type": "markdown",
   "id": "e758d11d-d0e5-4fc0-a35a-60c4f4d4f7a5",
   "metadata": {},
   "source": [
    "Expected outcomes and significance:\n",
    "\n",
    "What do you expect to find?\n",
    "What impact could such findings have?\n",
    "What future questions could this lead to?"
   ]
  },
  {
   "cell_type": "code",
   "execution_count": 2,
   "id": "2f7346b4-d968-41ac-9fb3-453c166eef26",
   "metadata": {},
   "outputs": [
    {
     "name": "stderr",
     "output_type": "stream",
     "text": [
      "Warning message:\n",
      "“package ‘ggplot2’ was built under R version 4.3.2”\n",
      "── \u001b[1mAttaching core tidyverse packages\u001b[22m ──────────────────────── tidyverse 2.0.0 ──\n",
      "\u001b[32m✔\u001b[39m \u001b[34mdplyr    \u001b[39m 1.1.3     \u001b[32m✔\u001b[39m \u001b[34mreadr    \u001b[39m 2.1.4\n",
      "\u001b[32m✔\u001b[39m \u001b[34mforcats  \u001b[39m 1.0.0     \u001b[32m✔\u001b[39m \u001b[34mstringr  \u001b[39m 1.5.0\n",
      "\u001b[32m✔\u001b[39m \u001b[34mggplot2  \u001b[39m 3.5.0     \u001b[32m✔\u001b[39m \u001b[34mtibble   \u001b[39m 3.2.1\n",
      "\u001b[32m✔\u001b[39m \u001b[34mlubridate\u001b[39m 1.9.2     \u001b[32m✔\u001b[39m \u001b[34mtidyr    \u001b[39m 1.3.0\n",
      "\u001b[32m✔\u001b[39m \u001b[34mpurrr    \u001b[39m 1.0.2     \n",
      "── \u001b[1mConflicts\u001b[22m ────────────────────────────────────────── tidyverse_conflicts() ──\n",
      "\u001b[31m✖\u001b[39m \u001b[34mdplyr\u001b[39m::\u001b[32mfilter()\u001b[39m masks \u001b[34mstats\u001b[39m::filter()\n",
      "\u001b[31m✖\u001b[39m \u001b[34mdplyr\u001b[39m::\u001b[32mlag()\u001b[39m    masks \u001b[34mstats\u001b[39m::lag()\n",
      "\u001b[36mℹ\u001b[39m Use the conflicted package (\u001b[3m\u001b[34m<http://conflicted.r-lib.org/>\u001b[39m\u001b[23m) to force all conflicts to become errors\n",
      "── \u001b[1mAttaching packages\u001b[22m ────────────────────────────────────── tidymodels 1.1.1 ──\n",
      "\n",
      "\u001b[32m✔\u001b[39m \u001b[34mbroom       \u001b[39m 1.0.5     \u001b[32m✔\u001b[39m \u001b[34mrsample     \u001b[39m 1.2.0\n",
      "\u001b[32m✔\u001b[39m \u001b[34mdials       \u001b[39m 1.2.0     \u001b[32m✔\u001b[39m \u001b[34mtune        \u001b[39m 1.1.2\n",
      "\u001b[32m✔\u001b[39m \u001b[34minfer       \u001b[39m 1.0.5     \u001b[32m✔\u001b[39m \u001b[34mworkflows   \u001b[39m 1.1.3\n",
      "\u001b[32m✔\u001b[39m \u001b[34mmodeldata   \u001b[39m 1.2.0     \u001b[32m✔\u001b[39m \u001b[34mworkflowsets\u001b[39m 1.0.1\n",
      "\u001b[32m✔\u001b[39m \u001b[34mparsnip     \u001b[39m 1.1.1     \u001b[32m✔\u001b[39m \u001b[34myardstick   \u001b[39m 1.2.0\n",
      "\u001b[32m✔\u001b[39m \u001b[34mrecipes     \u001b[39m 1.0.8     \n",
      "\n",
      "── \u001b[1mConflicts\u001b[22m ───────────────────────────────────────── tidymodels_conflicts() ──\n",
      "\u001b[31m✖\u001b[39m \u001b[34mscales\u001b[39m::\u001b[32mdiscard()\u001b[39m masks \u001b[34mpurrr\u001b[39m::discard()\n",
      "\u001b[31m✖\u001b[39m \u001b[34mdplyr\u001b[39m::\u001b[32mfilter()\u001b[39m   masks \u001b[34mstats\u001b[39m::filter()\n",
      "\u001b[31m✖\u001b[39m \u001b[34mrecipes\u001b[39m::\u001b[32mfixed()\u001b[39m  masks \u001b[34mstringr\u001b[39m::fixed()\n",
      "\u001b[31m✖\u001b[39m \u001b[34mdplyr\u001b[39m::\u001b[32mlag()\u001b[39m      masks \u001b[34mstats\u001b[39m::lag()\n",
      "\u001b[31m✖\u001b[39m \u001b[34myardstick\u001b[39m::\u001b[32mspec()\u001b[39m masks \u001b[34mreadr\u001b[39m::spec()\n",
      "\u001b[31m✖\u001b[39m \u001b[34mrecipes\u001b[39m::\u001b[32mstep()\u001b[39m   masks \u001b[34mstats\u001b[39m::step()\n",
      "\u001b[34m•\u001b[39m Use \u001b[32mtidymodels_prefer()\u001b[39m to resolve common conflicts.\n",
      "\n"
     ]
    }
   ],
   "source": [
    "library(tidyverse)\n",
    "library(tidymodels)\n",
    "library(repr)\n",
    "options(repr.matrix.max.rows = 6)"
   ]
  },
  {
   "cell_type": "code",
   "execution_count": null,
   "id": "7a7c97cd-6c92-475e-9599-4f5716b8f403",
   "metadata": {},
   "outputs": [],
   "source": []
  },
  {
   "cell_type": "markdown",
   "id": "7a9b5448-cea5-4c65-80db-e42a2955597b",
   "metadata": {},
   "source": [
    "# start the coding here"
   ]
  },
  {
   "cell_type": "code",
   "execution_count": 3,
   "id": "1f3b6642-343c-4bc6-ad9e-279a01d8ca27",
   "metadata": {},
   "outputs": [
    {
     "name": "stderr",
     "output_type": "stream",
     "text": [
      "Warning message:\n",
      "“\u001b[1m\u001b[22mThere was 1 warning in `mutate()`.\n",
      "\u001b[1m\u001b[22m\u001b[36mℹ\u001b[39m In argument: `ca = as.numeric(ca)`.\n",
      "Caused by warning:\n",
      "\u001b[33m!\u001b[39m NAs introduced by coercion”\n"
     ]
    },
    {
     "data": {
      "text/html": [
       "<table class=\"dataframe\">\n",
       "<caption>A data.frame: 303 × 14</caption>\n",
       "<thead>\n",
       "\t<tr><th scope=col>age</th><th scope=col>sex</th><th scope=col>cp</th><th scope=col>trestbps</th><th scope=col>chol</th><th scope=col>fbs</th><th scope=col>restcg</th><th scope=col>thalach</th><th scope=col>exang</th><th scope=col>oldpeak</th><th scope=col>slope</th><th scope=col>ca</th><th scope=col>thal</th><th scope=col>num</th></tr>\n",
       "\t<tr><th scope=col>&lt;dbl&gt;</th><th scope=col>&lt;fct&gt;</th><th scope=col>&lt;fct&gt;</th><th scope=col>&lt;dbl&gt;</th><th scope=col>&lt;dbl&gt;</th><th scope=col>&lt;fct&gt;</th><th scope=col>&lt;fct&gt;</th><th scope=col>&lt;dbl&gt;</th><th scope=col>&lt;fct&gt;</th><th scope=col>&lt;dbl&gt;</th><th scope=col>&lt;dbl&gt;</th><th scope=col>&lt;dbl&gt;</th><th scope=col>&lt;fct&gt;</th><th scope=col>&lt;dbl&gt;</th></tr>\n",
       "</thead>\n",
       "<tbody>\n",
       "\t<tr><td>63</td><td>male</td><td>1</td><td>145</td><td>233</td><td>1</td><td>2</td><td>150</td><td>0</td><td>2.3</td><td>3</td><td>0</td><td>6.0</td><td>0</td></tr>\n",
       "\t<tr><td>67</td><td>male</td><td>4</td><td>160</td><td>286</td><td>0</td><td>2</td><td>108</td><td>1</td><td>1.5</td><td>2</td><td>3</td><td>3.0</td><td>2</td></tr>\n",
       "\t<tr><td>67</td><td>male</td><td>4</td><td>120</td><td>229</td><td>0</td><td>2</td><td>129</td><td>1</td><td>2.6</td><td>2</td><td>2</td><td>7.0</td><td>1</td></tr>\n",
       "\t<tr><td>⋮</td><td>⋮</td><td>⋮</td><td>⋮</td><td>⋮</td><td>⋮</td><td>⋮</td><td>⋮</td><td>⋮</td><td>⋮</td><td>⋮</td><td>⋮</td><td>⋮</td><td>⋮</td></tr>\n",
       "\t<tr><td>57</td><td>male  </td><td>4</td><td>130</td><td>131</td><td>0</td><td>0</td><td>115</td><td>1</td><td>1.2</td><td>2</td><td> 1</td><td>7.0</td><td>3</td></tr>\n",
       "\t<tr><td>57</td><td>female</td><td>2</td><td>130</td><td>236</td><td>0</td><td>2</td><td>174</td><td>0</td><td>0.0</td><td>2</td><td> 1</td><td>3.0</td><td>1</td></tr>\n",
       "\t<tr><td>38</td><td>male  </td><td>3</td><td>138</td><td>175</td><td>0</td><td>0</td><td>173</td><td>0</td><td>0.0</td><td>1</td><td>NA</td><td>3.0</td><td>0</td></tr>\n",
       "</tbody>\n",
       "</table>\n"
      ],
      "text/latex": [
       "A data.frame: 303 × 14\n",
       "\\begin{tabular}{llllllllllllll}\n",
       " age & sex & cp & trestbps & chol & fbs & restcg & thalach & exang & oldpeak & slope & ca & thal & num\\\\\n",
       " <dbl> & <fct> & <fct> & <dbl> & <dbl> & <fct> & <fct> & <dbl> & <fct> & <dbl> & <dbl> & <dbl> & <fct> & <dbl>\\\\\n",
       "\\hline\n",
       "\t 63 & male & 1 & 145 & 233 & 1 & 2 & 150 & 0 & 2.3 & 3 & 0 & 6.0 & 0\\\\\n",
       "\t 67 & male & 4 & 160 & 286 & 0 & 2 & 108 & 1 & 1.5 & 2 & 3 & 3.0 & 2\\\\\n",
       "\t 67 & male & 4 & 120 & 229 & 0 & 2 & 129 & 1 & 2.6 & 2 & 2 & 7.0 & 1\\\\\n",
       "\t ⋮ & ⋮ & ⋮ & ⋮ & ⋮ & ⋮ & ⋮ & ⋮ & ⋮ & ⋮ & ⋮ & ⋮ & ⋮ & ⋮\\\\\n",
       "\t 57 & male   & 4 & 130 & 131 & 0 & 0 & 115 & 1 & 1.2 & 2 &  1 & 7.0 & 3\\\\\n",
       "\t 57 & female & 2 & 130 & 236 & 0 & 2 & 174 & 0 & 0.0 & 2 &  1 & 3.0 & 1\\\\\n",
       "\t 38 & male   & 3 & 138 & 175 & 0 & 0 & 173 & 0 & 0.0 & 1 & NA & 3.0 & 0\\\\\n",
       "\\end{tabular}\n"
      ],
      "text/markdown": [
       "\n",
       "A data.frame: 303 × 14\n",
       "\n",
       "| age &lt;dbl&gt; | sex &lt;fct&gt; | cp &lt;fct&gt; | trestbps &lt;dbl&gt; | chol &lt;dbl&gt; | fbs &lt;fct&gt; | restcg &lt;fct&gt; | thalach &lt;dbl&gt; | exang &lt;fct&gt; | oldpeak &lt;dbl&gt; | slope &lt;dbl&gt; | ca &lt;dbl&gt; | thal &lt;fct&gt; | num &lt;dbl&gt; |\n",
       "|---|---|---|---|---|---|---|---|---|---|---|---|---|---|\n",
       "| 63 | male | 1 | 145 | 233 | 1 | 2 | 150 | 0 | 2.3 | 3 | 0 | 6.0 | 0 |\n",
       "| 67 | male | 4 | 160 | 286 | 0 | 2 | 108 | 1 | 1.5 | 2 | 3 | 3.0 | 2 |\n",
       "| 67 | male | 4 | 120 | 229 | 0 | 2 | 129 | 1 | 2.6 | 2 | 2 | 7.0 | 1 |\n",
       "| ⋮ | ⋮ | ⋮ | ⋮ | ⋮ | ⋮ | ⋮ | ⋮ | ⋮ | ⋮ | ⋮ | ⋮ | ⋮ | ⋮ |\n",
       "| 57 | male   | 4 | 130 | 131 | 0 | 0 | 115 | 1 | 1.2 | 2 |  1 | 7.0 | 3 |\n",
       "| 57 | female | 2 | 130 | 236 | 0 | 2 | 174 | 0 | 0.0 | 2 |  1 | 3.0 | 1 |\n",
       "| 38 | male   | 3 | 138 | 175 | 0 | 0 | 173 | 0 | 0.0 | 1 | NA | 3.0 | 0 |\n",
       "\n"
      ],
      "text/plain": [
       "    age sex    cp trestbps chol fbs restcg thalach exang oldpeak slope ca thal\n",
       "1   63  male   1  145      233  1   2      150     0     2.3     3     0  6.0 \n",
       "2   67  male   4  160      286  0   2      108     1     1.5     2     3  3.0 \n",
       "3   67  male   4  120      229  0   2      129     1     2.6     2     2  7.0 \n",
       "⋮   ⋮   ⋮      ⋮  ⋮        ⋮    ⋮   ⋮      ⋮       ⋮     ⋮       ⋮     ⋮  ⋮   \n",
       "301 57  male   4  130      131  0   0      115     1     1.2     2      1 7.0 \n",
       "302 57  female 2  130      236  0   2      174     0     0.0     2      1 3.0 \n",
       "303 38  male   3  138      175  0   0      173     0     0.0     1     NA 3.0 \n",
       "    num\n",
       "1   0  \n",
       "2   2  \n",
       "3   1  \n",
       "⋮   ⋮  \n",
       "301 3  \n",
       "302 1  \n",
       "303 0  "
      ]
     },
     "metadata": {},
     "output_type": "display_data"
    }
   ],
   "source": [
    "# read data here\n",
    "\n",
    "cleveland_data <- read.table(\"data/heart_disease/processed.cleveland.data\", sep=\",\")\n",
    "colnames(cleveland_data)<-c('age','sex','cp','trestbps','chol','fbs', 'restcg', 'thalach',\n",
    "                                     'exang','oldpeak','slope','ca','thal','num')\n",
    "# cleveland_data\n",
    "\n",
    "#clean the data\n",
    "cleveland_clean <- cleveland_data |> mutate(age = as.numeric(age),\n",
    "                                                sex = as_factor(sex),\n",
    "                                                cp = as_factor(cp),\n",
    "                                                trestbps = as.numeric(trestbps),\n",
    "                                                chol = as.numeric(chol),\n",
    "                                                fbs = as_factor(fbs),\n",
    "                                                restcg = as_factor(restcg),\n",
    "                                                thalach = as.numeric(thalach),\n",
    "                                                exang = as_factor(exang),\n",
    "                                                oldpeak = as.numeric(oldpeak),\n",
    "                                                slope = as.numeric(slope),\n",
    "                                                ca = as.numeric(ca),\n",
    "                                                thal = as_factor(thal),\n",
    "                                                num = as.numeric(num))\n",
    "cleveland_clean |> mutate( sex = fct_recode(sex, \"male\" = \"1\", \"female\" = \"0\"))\n",
    "\n",
    "# cp ~ trestbps\n",
    "# Using the values of trestbps + thalach to predict the cp of the patient."
   ]
  },
  {
   "cell_type": "code",
   "execution_count": 4,
   "id": "b87eeabb-e725-4304-a034-1f9851e2372d",
   "metadata": {},
   "outputs": [
    {
     "data": {
      "text/html": [
       "<table class=\"dataframe\">\n",
       "<caption>A data.frame: 226 × 3</caption>\n",
       "<thead>\n",
       "\t<tr><th scope=col>trestbps</th><th scope=col>thalach</th><th scope=col>cp</th></tr>\n",
       "\t<tr><th scope=col>&lt;dbl&gt;</th><th scope=col>&lt;dbl&gt;</th><th scope=col>&lt;fct&gt;</th></tr>\n",
       "</thead>\n",
       "<tbody>\n",
       "\t<tr><td>130</td><td>172</td><td>2</td></tr>\n",
       "\t<tr><td>120</td><td>178</td><td>2</td></tr>\n",
       "\t<tr><td>140</td><td>153</td><td>2</td></tr>\n",
       "\t<tr><td>⋮</td><td>⋮</td><td>⋮</td></tr>\n",
       "\t<tr><td>164</td><td> 90</td><td>4</td></tr>\n",
       "\t<tr><td>144</td><td>141</td><td>4</td></tr>\n",
       "\t<tr><td>130</td><td>115</td><td>4</td></tr>\n",
       "</tbody>\n",
       "</table>\n"
      ],
      "text/latex": [
       "A data.frame: 226 × 3\n",
       "\\begin{tabular}{lll}\n",
       " trestbps & thalach & cp\\\\\n",
       " <dbl> & <dbl> & <fct>\\\\\n",
       "\\hline\n",
       "\t 130 & 172 & 2\\\\\n",
       "\t 120 & 178 & 2\\\\\n",
       "\t 140 & 153 & 2\\\\\n",
       "\t ⋮ & ⋮ & ⋮\\\\\n",
       "\t 164 &  90 & 4\\\\\n",
       "\t 144 & 141 & 4\\\\\n",
       "\t 130 & 115 & 4\\\\\n",
       "\\end{tabular}\n"
      ],
      "text/markdown": [
       "\n",
       "A data.frame: 226 × 3\n",
       "\n",
       "| trestbps &lt;dbl&gt; | thalach &lt;dbl&gt; | cp &lt;fct&gt; |\n",
       "|---|---|---|\n",
       "| 130 | 172 | 2 |\n",
       "| 120 | 178 | 2 |\n",
       "| 140 | 153 | 2 |\n",
       "| ⋮ | ⋮ | ⋮ |\n",
       "| 164 |  90 | 4 |\n",
       "| 144 | 141 | 4 |\n",
       "| 130 | 115 | 4 |\n",
       "\n"
      ],
      "text/plain": [
       "    trestbps thalach cp\n",
       "1   130      172     2 \n",
       "2   120      178     2 \n",
       "3   140      153     2 \n",
       "⋮   ⋮        ⋮       ⋮ \n",
       "224 164       90     4 \n",
       "225 144      141     4 \n",
       "226 130      115     4 "
      ]
     },
     "metadata": {},
     "output_type": "display_data"
    }
   ],
   "source": [
    "#select columns:trestbps, thalach, cp\n",
    "cleveland_select<- cleveland_clean|>\n",
    "select(trestbps, thalach, cp)\n",
    "\n",
    "#split the dataset into training set and testing set\n",
    "\n",
    "cleveland_split<-initial_split(cleveland_select, prop=0.75, strata=cp)\n",
    "cleveland_train<-training(cleveland_split)\n",
    "cleveland_test<-testing(cleveland_split)\n",
    "\n",
    "cleveland_train"
   ]
  },
  {
   "cell_type": "code",
   "execution_count": 5,
   "id": "06f1435f-7b28-4ce7-b23b-bbc2b9231c68",
   "metadata": {},
   "outputs": [],
   "source": [
    "#scale the values\n",
    "\n",
    "# value for set.seed()?\n",
    "set.seed(20)\n",
    "cleveland_recipe<-recipe(cp~trestbps+thalach, data=cleveland_train)|>\n",
    "step_scale(all_predictors())|>\n",
    "step_center(all_predictors())\n"
   ]
  }
 ],
 "metadata": {
  "kernelspec": {
   "display_name": "R",
   "language": "R",
   "name": "ir"
  },
  "language_info": {
   "codemirror_mode": "r",
   "file_extension": ".r",
   "mimetype": "text/x-r-source",
   "name": "R",
   "pygments_lexer": "r",
   "version": "4.3.1"
  }
 },
 "nbformat": 4,
 "nbformat_minor": 5
}
