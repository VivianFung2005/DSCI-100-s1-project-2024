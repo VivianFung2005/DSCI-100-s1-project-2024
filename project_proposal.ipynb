{
 "cells": [
  {
   "cell_type": "markdown",
   "id": "f657f94b-59d1-4014-96a0-bb394fecde88",
   "metadata": {},
   "source": [
    "Title: "
   ]
  },
  {
   "cell_type": "markdown",
   "id": "0e357968-d22c-44b0-b4c7-85a7e296f6b4",
   "metadata": {},
   "source": [
    "Introduction:\n",
    "1. Provide some relevant background information on the topic so that someone unfamiliar with it will be prepared to understand the rest of your proposal\n",
    "2. Clearly state the question you will try to answer with your project\n",
    "3. Identify and describe the dataset that will be used to answer the question"
   ]
  },
  {
   "cell_type": "markdown",
   "id": "475a52e1-39f7-4801-9620-0e2bcc9dbf0c",
   "metadata": {},
   "source": [
    "Preliminary exploratory data analysis:\n",
    "1. Demonstrate that the dataset can be read from the web into R \n",
    "2. Clean and wrangle your data into a tidy format\n",
    "3. Using only training data, summarize the data in at least one table (this is exploratory data analysis). An example of a useful table could be one that reports the number of observations in each class, the means of the predictor variables you plan to use in your analysis and how many rows have missing data. \n",
    "Using only training data, visualize the data with at least one plot relevant to the analysis you plan to do (this is exploratory data analysis). An example of a useful visualization could be one that compares the distributions of each of the predictor variables you plan to use in your analysis."
   ]
  }
 ],
 "metadata": {
  "kernelspec": {
   "display_name": "Python 3 (ipykernel)",
   "language": "python",
   "name": "python3"
  },
  "language_info": {
   "codemirror_mode": {
    "name": "ipython",
    "version": 3
   },
   "file_extension": ".py",
   "mimetype": "text/x-python",
   "name": "python",
   "nbconvert_exporter": "python",
   "pygments_lexer": "ipython3",
   "version": "3.11.5"
  }
 },
 "nbformat": 4,
 "nbformat_minor": 5
}
