{
 "cells": [
  {
   "cell_type": "markdown",
   "id": "f657f94b-59d1-4014-96a0-bb394fecde88",
   "metadata": {},
   "source": [
    "Title: "
   ]
  },
  {
   "cell_type": "markdown",
   "id": "0e357968-d22c-44b0-b4c7-85a7e296f6b4",
   "metadata": {},
   "source": [
    "Introduction:\n",
    "1. Provide some relevant background information on the topic so that someone unfamiliar with it will be prepared to understand the rest of your proposal\n",
    "2. Clearly state the question you will try to answer with your project\n",
    "3. Identify and describe the dataset that will be used to answer the question"
   ]
  },
  {
   "cell_type": "markdown",
   "id": "475a52e1-39f7-4801-9620-0e2bcc9dbf0c",
   "metadata": {},
   "source": [
    "Preliminary exploratory data analysis:\n",
    "1. Demonstrate that the dataset can be read from the web into R \n",
    "2. Clean and wrangle your data into a tidy format\n",
    "3. Using only training data, summarize the data in at least one table (this is exploratory data analysis). An example of a useful table could be one that reports the number of observations in each class, the means of the predictor variables you plan to use in your analysis and how many rows have missing data. \n",
    "4. Using only training data, visualize the data with at least one plot relevant to the analysis you plan to do (this is exploratory data analysis). An example of a useful visualization could be one that compares the distributions of each of the predictor variables you plan to use in your analysis."
   ]
  },
  {
   "cell_type": "markdown",
   "id": "67f6b2fb-c75d-4336-870e-47db1b240cbc",
   "metadata": {},
   "source": [
    "Methods:\n",
    "\n",
    "Explain how you will conduct either your data analysis and which variables/columns you will use. Note - you do not need to use all variables/columns that exist in the raw data set. In fact, that's often not a good idea. For each variable think: is this a useful variable for prediction?\n",
    "Describe at least one way that you will visualize the results\n"
   ]
  },
  {
   "cell_type": "markdown",
   "id": "e758d11d-d0e5-4fc0-a35a-60c4f4d4f7a5",
   "metadata": {},
   "source": [
    "Expected outcomes and significance:\n",
    "\n",
    "What do you expect to find?\n",
    "What impact could such findings have?\n",
    "What future questions could this lead to?"
   ]
  },
  {
   "cell_type": "code",
   "execution_count": 8,
   "id": "2f7346b4-d968-41ac-9fb3-453c166eef26",
   "metadata": {},
   "outputs": [],
   "source": [
    "library(tidyverse)\n",
    "library(tidymodels)"
   ]
  },
  {
   "cell_type": "code",
   "execution_count": null,
   "id": "7a7c97cd-6c92-475e-9599-4f5716b8f403",
   "metadata": {},
   "outputs": [],
   "source": []
  },
  {
   "cell_type": "markdown",
   "id": "7a9b5448-cea5-4c65-80db-e42a2955597b",
   "metadata": {},
   "source": [
    "# start the coding here"
   ]
  },
  {
   "cell_type": "code",
   "execution_count": 1,
   "id": "1f3b6642-343c-4bc6-ad9e-279a01d8ca27",
   "metadata": {},
   "outputs": [
    {
     "ename": "ERROR",
     "evalue": "Error in mutate(cleveland_data, age = as.numeric(age), sex = as_factor(sex), : could not find function \"mutate\"\n",
     "output_type": "error",
     "traceback": [
      "Error in mutate(cleveland_data, age = as.numeric(age), sex = as_factor(sex), : could not find function \"mutate\"\nTraceback:\n"
     ]
    }
   ],
   "source": [
    "# read data here\n",
    "\n",
    "cleveland_data <- read.table(\"data/heart_disease/processed.cleveland.data\", sep=\",\")\n",
    "colnames(cleveland_data)<-c('age','sex','cp','trestbps','chol','fbs', 'restcg', 'thalach',\n",
    "                                     'exang','oldpeak','slope','ca','thal','num')\n",
    "#switzerland_data\n",
    "\n",
    "# clean the data\n",
    "cleveland_clean <- cleveland_data |> mutate(age = as.numeric(age),\n",
    "                                                sex = as_factor(sex),\n",
    "                                                cp = as_factor(cp),\n",
    "                                                trestbps = as.numeric(trestbps),\n",
    "                                                chol = as.numeric(chol),\n",
    "                                                fbs = as_factor(fbs),\n",
    "                                                restcg = as_factor(restcg),\n",
    "                                                thalach = as.numeric(thalach),\n",
    "                                                exang = as_factor(exang),\n",
    "                                                oldpeak = as.numeric(oldpeak),\n",
    "                                                slope = as.numeric(slope),\n",
    "                                                ca = as.numeric(ca),\n",
    "                                                thal = as_factor(thal),\n",
    "                                                num = as.numeric(num))\n",
    "switzerland_clean"
   ]
  },
  {
   "cell_type": "code",
   "execution_count": null,
   "id": "b87eeabb-e725-4304-a034-1f9851e2372d",
   "metadata": {},
   "outputs": [],
   "source": []
  }
 ],
 "metadata": {
  "kernelspec": {
   "display_name": "R",
   "language": "R",
   "name": "ir"
  },
  "language_info": {
   "codemirror_mode": "r",
   "file_extension": ".r",
   "mimetype": "text/x-r-source",
   "name": "R",
   "pygments_lexer": "r",
   "version": "4.3.1"
  }
 },
 "nbformat": 4,
 "nbformat_minor": 5
}
